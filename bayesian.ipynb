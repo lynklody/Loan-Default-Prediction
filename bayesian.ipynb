{
 "metadata": {
  "language_info": {
   "codemirror_mode": {
    "name": "ipython",
    "version": 3
   },
   "file_extension": ".py",
   "mimetype": "text/x-python",
   "name": "python",
   "nbconvert_exporter": "python",
   "pygments_lexer": "ipython3",
   "version": "3.7.3-final"
  },
  "orig_nbformat": 2,
  "kernelspec": {
   "name": "python37332bitdc0bd65fb48d4c05abf511b9e7dccc57",
   "display_name": "Python 3.7.3 32-bit",
   "language": "python"
  }
 },
 "nbformat": 4,
 "nbformat_minor": 2,
 "cells": [
  {
   "source": [
    "# Loan Default Prediction with Naive Bayes model\n",
    "#### Implemented from scratch\n",
    "<br/>Before you start, click to download the data set (both training set and test set) from the [source website](https://tianchi.aliyun.com/competition/entrance/531830/information?lang=en-us) or download it from [Google Drive](https://drive.google.com/drive/folders/1FHJycjwZIBU-rHuDvBtTves-RSn9orc9?usp=sharing) instead."
   ],
   "cell_type": "markdown",
   "metadata": {}
  },
  {
   "cell_type": "code",
   "execution_count": 1,
   "metadata": {},
   "outputs": [],
   "source": [
    "from math import *\n",
    "import numpy as np\n",
    "import csv\n",
    "import seaborn as sns\n",
    "from defaultlist import defaultlist\n",
    "import matplotlib.pyplot as plt\n",
    "from sklearn.metrics import auc, roc_curve\n",
    "from sklearn.model_selection import train_test_split\n",
    "from sklearn.metrics import roc_auc_score"
   ]
  },
  {
   "source": [
    "#### Import dataset\n",
    "#### The default dataset is the smallest sample set with a shape of 150*32.\n",
    "##### *Note: Please insert your file path and file name here*"
   ],
   "cell_type": "markdown",
   "metadata": {}
  },
  {
   "cell_type": "code",
   "execution_count": 2,
   "metadata": {},
   "outputs": [],
   "source": [
    "path = \".\\\\datasets\\\\\"\n",
    "filename = 'sample-150.csv'\n",
    "# filename = 'sample-100k.csv'"
   ]
  },
  {
   "cell_type": "code",
   "execution_count": 3,
   "metadata": {},
   "outputs": [
    {
     "output_type": "stream",
     "name": "stdout",
     "text": [
      "The file size (including the header row) is 152\n"
     ]
    }
   ],
   "source": [
    "'''\n",
    "IMPORT DATASET while Dropping unusable columns\n",
    "    Dropped column ID: 32+\n",
    "'''\n",
    "\n",
    "dataset = defaultlist()\n",
    "with open(path + filename, 'r') as file:\n",
    "    csv_reader = csv.reader(file)\n",
    "    for row in csv_reader:\n",
    "        if not row:\n",
    "            continue\n",
    "        dataset.append(row[:32])\n",
    "dataset = np.asarray(dataset)\n",
    "\n",
    "print(\"The file size (including the header row) is\", len(dataset))"
   ]
  },
  {
   "source": [
    "#### Data Preprocessing"
   ],
   "cell_type": "markdown",
   "metadata": {}
  },
  {
   "cell_type": "code",
   "execution_count": 4,
   "metadata": {},
   "outputs": [],
   "source": [
    "'''\n",
    "Convert data types\n",
    "    Int type column ID: 0,2,9,11,13,27,28\n",
    "    Float type column ID: 1,3,4,10,14,15,18,19,20,21,26,27,30,31\n",
    "    Str type column ID: 5,6,7,8,12,16,17,22,23,24,29\n",
    "'''\n",
    "\n",
    "\"If you encounter error in this section, please rerun the entire script. The error usually goes away.\"\n",
    "\n",
    "def convert(dataset):\n",
    "    toInt = [0,2,9,11,13,27,28]\n",
    "    toFloat = [1,3,4,10,14,15,18,19,20,21,26,27,30,31]\n",
    "    newDataset = list()\n",
    "    \n",
    "    for i in range(0, len(dataset[0])):\n",
    "        line = list()\n",
    "        line = np.asarray(dataset)[:,i]\n",
    "        # line = np.array(dataset)[i]\n",
    "        # print(i,line[0])\n",
    "        newLine = list()\n",
    "        newLine.append(line[0])\n",
    "        if (i) in toInt:\n",
    "            for j in range(1, len(line)):\n",
    "                if line is not None:\n",
    "                    newLine.append(int(line[j]))\n",
    "        elif (i) in toFloat:\n",
    "            for j in range(1, len(line)):\n",
    "                if line is not None:\n",
    "                    newLine.append(float(line[j]))\n",
    "        else:\n",
    "            for j in range(1, len(line)):\n",
    "                if line is not None:\n",
    "                    newLine.append(str(line[j]))\n",
    "        newDataset.append(newLine)\n",
    "    return newDataset\n",
    "\n",
    "dataset = convert(dataset)"
   ]
  },
  {
   "source": [
    "#### Data set split"
   ],
   "cell_type": "markdown",
   "metadata": {}
  },
  {
   "cell_type": "code",
   "execution_count": 5,
   "metadata": {},
   "outputs": [],
   "source": [
    "'''\n",
    "Split training set / test set\n",
    "    class name: isDefault\n",
    "    class value: {0, 1}\n",
    "'''\n",
    "\n",
    "x_train = list()\n",
    "y_train = list()\n",
    "x_train_str_type_only = list()\n",
    "x_train_num_type_only = list()\n",
    "x_train_gaussian = list()\n",
    "classloc = 13 # isDefault's column id\n",
    "\n",
    "\"Training set\"\n",
    "x_train = np.asarray((dataset[:classloc] + dataset[classloc+1:]), dtype='O')\n",
    "x_train = np.asarray(x_train[:,1:], dtype='O')\n",
    "# print(x_train)\n",
    "\n",
    "y_train = np.asarray(dataset[classloc], dtype='O')\n",
    "y_train = np.asarray(y_train[1:], dtype='O')\n",
    "# print(y_train)"
   ]
  },
  {
   "cell_type": "code",
   "execution_count": 6,
   "metadata": {},
   "outputs": [
    {
     "output_type": "stream",
     "name": "stdout",
     "text": [
      "38 151\n"
     ]
    },
    {
     "output_type": "display_data",
     "data": {
      "text/plain": "<Figure size 432x288 with 1 Axes>",
      "image/svg+xml": "<?xml version=\"1.0\" encoding=\"utf-8\" standalone=\"no\"?>\r\n<!DOCTYPE svg PUBLIC \"-//W3C//DTD SVG 1.1//EN\"\r\n  \"http://www.w3.org/Graphics/SVG/1.1/DTD/svg11.dtd\">\r\n<!-- Created with matplotlib (https://matplotlib.org/) -->\r\n<svg height=\"231.84pt\" version=\"1.1\" viewBox=\"0 0 349.2 231.84\" width=\"349.2pt\" xmlns=\"http://www.w3.org/2000/svg\" xmlns:xlink=\"http://www.w3.org/1999/xlink\">\r\n <metadata>\r\n  <rdf:RDF xmlns:cc=\"http://creativecommons.org/ns#\" xmlns:dc=\"http://purl.org/dc/elements/1.1/\" xmlns:rdf=\"http://www.w3.org/1999/02/22-rdf-syntax-ns#\">\r\n   <cc:Work>\r\n    <dc:type rdf:resource=\"http://purl.org/dc/dcmitype/StillImage\"/>\r\n    <dc:date>2020-12-25T21:15:05.244502</dc:date>\r\n    <dc:format>image/svg+xml</dc:format>\r\n    <dc:creator>\r\n     <cc:Agent>\r\n      <dc:title>Matplotlib v3.3.3, https://matplotlib.org/</dc:title>\r\n     </cc:Agent>\r\n    </dc:creator>\r\n   </cc:Work>\r\n  </rdf:RDF>\r\n </metadata>\r\n <defs>\r\n  <style type=\"text/css\">*{stroke-linecap:butt;stroke-linejoin:round;}</style>\r\n </defs>\r\n <g id=\"figure_1\">\r\n  <g id=\"patch_1\">\r\n   <path d=\"M 0 231.84 \r\nL 349.2 231.84 \r\nL 349.2 0 \r\nL 0 0 \r\nz\r\n\" style=\"fill:none;\"/>\r\n  </g>\r\n  <g id=\"axes_1\">\r\n   <g id=\"patch_2\">\r\n    <path d=\"M 271.413699 116.998228 \r\nC 271.413699 104.065846 268.849322 91.2609 263.869258 79.325848 \r\nC 258.889194 67.390795 251.591589 56.560855 242.399573 47.463967 \r\nC 233.207558 38.367079 222.30229 31.182527 210.316078 26.326887 \r\nC 198.329866 21.471246 185.498938 19.040212 172.567255 19.174741 \r\nL 173.584918 116.998228 \r\nL 271.413699 116.998228 \r\nz\r\n\" style=\"fill:#092436;opacity:0.5;stroke:#092436;stroke-linejoin:miter;\"/>\r\n   </g>\r\n   <g id=\"patch_3\">\r\n    <path d=\"M 172.567255 19.174741 \r\nC 153.265219 19.375541 134.447667 25.28479 118.496022 36.154652 \r\nC 102.544376 47.024515 90.161183 62.376258 82.913577 80.267068 \r\nC 75.66597 98.157879 73.87315 117.799805 77.762005 136.707098 \r\nC 81.650859 155.614391 91.050114 172.95433 104.770263 186.53249 \r\nC 118.490412 200.110649 135.927188 209.329017 154.873912 213.020978 \r\nC 173.820635 216.712939 193.442849 214.715892 211.257299 207.282568 \r\nC 229.071748 199.849244 244.293844 187.307025 254.997182 171.243169 \r\nC 265.700519 155.179313 271.413699 136.301308 271.413699 116.998228 \r\nL 173.584918 116.998228 \r\nL 172.567255 19.174741 \r\nz\r\n\" style=\"fill:#4c2604;opacity:0.5;stroke:#4c2604;stroke-linejoin:miter;\"/>\r\n   </g>\r\n   <g id=\"patch_4\">\r\n    <path d=\"M 273.370274 115.041653 \r\nC 273.370274 102.10927 270.805898 89.304325 265.825834 77.369272 \r\nC 260.845769 65.43422 253.548164 54.604279 244.356149 45.507391 \r\nC 235.164133 36.410503 224.258865 29.225952 212.272653 24.370311 \r\nC 200.286442 19.51467 187.455513 17.083636 174.52383 17.218165 \r\nL 175.541494 115.041653 \r\nL 273.370274 115.041653 \r\nz\r\n\" style=\"fill:#1f77b4;\"/>\r\n   </g>\r\n   <g id=\"patch_5\">\r\n    <path d=\"M 174.52383 17.218165 \r\nC 155.221795 17.418966 136.404243 23.328214 120.452597 34.198077 \r\nC 104.500952 45.067939 92.117759 60.419682 84.870152 78.310493 \r\nC 77.622545 96.201303 75.829726 115.84323 79.71858 134.750522 \r\nC 83.607435 153.657815 93.00669 170.997754 106.726839 184.575914 \r\nC 120.446988 198.154074 137.883764 207.372441 156.830487 211.064402 \r\nC 175.777211 214.756364 195.399425 212.759316 213.213874 205.325992 \r\nC 231.028324 197.892669 246.25042 185.35045 256.953757 169.286593 \r\nC 267.657095 153.222737 273.370274 134.344733 273.370274 115.041653 \r\nL 175.541494 115.041653 \r\nL 174.52383 17.218165 \r\nz\r\n\" style=\"fill:#ff7f0e;\"/>\r\n   </g>\r\n   <g id=\"matplotlib.axis_1\"/>\r\n   <g id=\"matplotlib.axis_2\"/>\r\n   <g id=\"text_1\">\r\n    <!-- Is Default -->\r\n    <g transform=\"translate(251.237614 41.31334)scale(0.1 -0.1)\">\r\n     <defs>\r\n      <path d=\"M 9.8125 72.90625 \r\nL 19.671875 72.90625 \r\nL 19.671875 0 \r\nL 9.8125 0 \r\nz\r\n\" id=\"DejaVuSans-73\"/>\r\n      <path d=\"M 44.28125 53.078125 \r\nL 44.28125 44.578125 \r\nQ 40.484375 46.53125 36.375 47.5 \r\nQ 32.28125 48.484375 27.875 48.484375 \r\nQ 21.1875 48.484375 17.84375 46.4375 \r\nQ 14.5 44.390625 14.5 40.28125 \r\nQ 14.5 37.15625 16.890625 35.375 \r\nQ 19.28125 33.59375 26.515625 31.984375 \r\nL 29.59375 31.296875 \r\nQ 39.15625 29.25 43.1875 25.515625 \r\nQ 47.21875 21.78125 47.21875 15.09375 \r\nQ 47.21875 7.46875 41.1875 3.015625 \r\nQ 35.15625 -1.421875 24.609375 -1.421875 \r\nQ 20.21875 -1.421875 15.453125 -0.5625 \r\nQ 10.6875 0.296875 5.421875 2 \r\nL 5.421875 11.28125 \r\nQ 10.40625 8.6875 15.234375 7.390625 \r\nQ 20.0625 6.109375 24.8125 6.109375 \r\nQ 31.15625 6.109375 34.5625 8.28125 \r\nQ 37.984375 10.453125 37.984375 14.40625 \r\nQ 37.984375 18.0625 35.515625 20.015625 \r\nQ 33.0625 21.96875 24.703125 23.78125 \r\nL 21.578125 24.515625 \r\nQ 13.234375 26.265625 9.515625 29.90625 \r\nQ 5.8125 33.546875 5.8125 39.890625 \r\nQ 5.8125 47.609375 11.28125 51.796875 \r\nQ 16.75 56 26.8125 56 \r\nQ 31.78125 56 36.171875 55.265625 \r\nQ 40.578125 54.546875 44.28125 53.078125 \r\nz\r\n\" id=\"DejaVuSans-115\"/>\r\n      <path id=\"DejaVuSans-32\"/>\r\n      <path d=\"M 19.671875 64.796875 \r\nL 19.671875 8.109375 \r\nL 31.59375 8.109375 \r\nQ 46.6875 8.109375 53.6875 14.9375 \r\nQ 60.6875 21.78125 60.6875 36.53125 \r\nQ 60.6875 51.171875 53.6875 57.984375 \r\nQ 46.6875 64.796875 31.59375 64.796875 \r\nz\r\nM 9.8125 72.90625 \r\nL 30.078125 72.90625 \r\nQ 51.265625 72.90625 61.171875 64.09375 \r\nQ 71.09375 55.28125 71.09375 36.53125 \r\nQ 71.09375 17.671875 61.125 8.828125 \r\nQ 51.171875 0 30.078125 0 \r\nL 9.8125 0 \r\nz\r\n\" id=\"DejaVuSans-68\"/>\r\n      <path d=\"M 56.203125 29.59375 \r\nL 56.203125 25.203125 \r\nL 14.890625 25.203125 \r\nQ 15.484375 15.921875 20.484375 11.0625 \r\nQ 25.484375 6.203125 34.421875 6.203125 \r\nQ 39.59375 6.203125 44.453125 7.46875 \r\nQ 49.3125 8.734375 54.109375 11.28125 \r\nL 54.109375 2.78125 \r\nQ 49.265625 0.734375 44.1875 -0.34375 \r\nQ 39.109375 -1.421875 33.890625 -1.421875 \r\nQ 20.796875 -1.421875 13.15625 6.1875 \r\nQ 5.515625 13.8125 5.515625 26.8125 \r\nQ 5.515625 40.234375 12.765625 48.109375 \r\nQ 20.015625 56 32.328125 56 \r\nQ 43.359375 56 49.78125 48.890625 \r\nQ 56.203125 41.796875 56.203125 29.59375 \r\nz\r\nM 47.21875 32.234375 \r\nQ 47.125 39.59375 43.09375 43.984375 \r\nQ 39.0625 48.390625 32.421875 48.390625 \r\nQ 24.90625 48.390625 20.390625 44.140625 \r\nQ 15.875 39.890625 15.1875 32.171875 \r\nz\r\n\" id=\"DejaVuSans-101\"/>\r\n      <path d=\"M 37.109375 75.984375 \r\nL 37.109375 68.5 \r\nL 28.515625 68.5 \r\nQ 23.6875 68.5 21.796875 66.546875 \r\nQ 19.921875 64.59375 19.921875 59.515625 \r\nL 19.921875 54.6875 \r\nL 34.71875 54.6875 \r\nL 34.71875 47.703125 \r\nL 19.921875 47.703125 \r\nL 19.921875 0 \r\nL 10.890625 0 \r\nL 10.890625 47.703125 \r\nL 2.296875 47.703125 \r\nL 2.296875 54.6875 \r\nL 10.890625 54.6875 \r\nL 10.890625 58.5 \r\nQ 10.890625 67.625 15.140625 71.796875 \r\nQ 19.390625 75.984375 28.609375 75.984375 \r\nz\r\n\" id=\"DejaVuSans-102\"/>\r\n      <path d=\"M 34.28125 27.484375 \r\nQ 23.390625 27.484375 19.1875 25 \r\nQ 14.984375 22.515625 14.984375 16.5 \r\nQ 14.984375 11.71875 18.140625 8.90625 \r\nQ 21.296875 6.109375 26.703125 6.109375 \r\nQ 34.1875 6.109375 38.703125 11.40625 \r\nQ 43.21875 16.703125 43.21875 25.484375 \r\nL 43.21875 27.484375 \r\nz\r\nM 52.203125 31.203125 \r\nL 52.203125 0 \r\nL 43.21875 0 \r\nL 43.21875 8.296875 \r\nQ 40.140625 3.328125 35.546875 0.953125 \r\nQ 30.953125 -1.421875 24.3125 -1.421875 \r\nQ 15.921875 -1.421875 10.953125 3.296875 \r\nQ 6 8.015625 6 15.921875 \r\nQ 6 25.140625 12.171875 29.828125 \r\nQ 18.359375 34.515625 30.609375 34.515625 \r\nL 43.21875 34.515625 \r\nL 43.21875 35.40625 \r\nQ 43.21875 41.609375 39.140625 45 \r\nQ 35.0625 48.390625 27.6875 48.390625 \r\nQ 23 48.390625 18.546875 47.265625 \r\nQ 14.109375 46.140625 10.015625 43.890625 \r\nL 10.015625 52.203125 \r\nQ 14.9375 54.109375 19.578125 55.046875 \r\nQ 24.21875 56 28.609375 56 \r\nQ 40.484375 56 46.34375 49.84375 \r\nQ 52.203125 43.703125 52.203125 31.203125 \r\nz\r\n\" id=\"DejaVuSans-97\"/>\r\n      <path d=\"M 8.5 21.578125 \r\nL 8.5 54.6875 \r\nL 17.484375 54.6875 \r\nL 17.484375 21.921875 \r\nQ 17.484375 14.15625 20.5 10.265625 \r\nQ 23.53125 6.390625 29.59375 6.390625 \r\nQ 36.859375 6.390625 41.078125 11.03125 \r\nQ 45.3125 15.671875 45.3125 23.6875 \r\nL 45.3125 54.6875 \r\nL 54.296875 54.6875 \r\nL 54.296875 0 \r\nL 45.3125 0 \r\nL 45.3125 8.40625 \r\nQ 42.046875 3.421875 37.71875 1 \r\nQ 33.40625 -1.421875 27.6875 -1.421875 \r\nQ 18.265625 -1.421875 13.375 4.4375 \r\nQ 8.5 10.296875 8.5 21.578125 \r\nz\r\nM 31.109375 56 \r\nz\r\n\" id=\"DejaVuSans-117\"/>\r\n      <path d=\"M 9.421875 75.984375 \r\nL 18.40625 75.984375 \r\nL 18.40625 0 \r\nL 9.421875 0 \r\nz\r\n\" id=\"DejaVuSans-108\"/>\r\n      <path d=\"M 18.3125 70.21875 \r\nL 18.3125 54.6875 \r\nL 36.8125 54.6875 \r\nL 36.8125 47.703125 \r\nL 18.3125 47.703125 \r\nL 18.3125 18.015625 \r\nQ 18.3125 11.328125 20.140625 9.421875 \r\nQ 21.96875 7.515625 27.59375 7.515625 \r\nL 36.8125 7.515625 \r\nL 36.8125 0 \r\nL 27.59375 0 \r\nQ 17.1875 0 13.234375 3.875 \r\nQ 9.28125 7.765625 9.28125 18.015625 \r\nL 9.28125 47.703125 \r\nL 2.6875 47.703125 \r\nL 2.6875 54.6875 \r\nL 9.28125 54.6875 \r\nL 9.28125 70.21875 \r\nz\r\n\" id=\"DejaVuSans-116\"/>\r\n     </defs>\r\n     <use xlink:href=\"#DejaVuSans-73\"/>\r\n     <use x=\"29.492188\" xlink:href=\"#DejaVuSans-115\"/>\r\n     <use x=\"81.591797\" xlink:href=\"#DejaVuSans-32\"/>\r\n     <use x=\"113.378906\" xlink:href=\"#DejaVuSans-68\"/>\r\n     <use x=\"190.380859\" xlink:href=\"#DejaVuSans-101\"/>\r\n     <use x=\"251.904297\" xlink:href=\"#DejaVuSans-102\"/>\r\n     <use x=\"287.109375\" xlink:href=\"#DejaVuSans-97\"/>\r\n     <use x=\"348.388672\" xlink:href=\"#DejaVuSans-117\"/>\r\n     <use x=\"411.767578\" xlink:href=\"#DejaVuSans-108\"/>\r\n     <use x=\"439.550781\" xlink:href=\"#DejaVuSans-116\"/>\r\n    </g>\r\n   </g>\r\n   <g id=\"text_2\">\r\n    <!-- 25.2% -->\r\n    <g transform=\"translate(200.946693 76.080471)scale(0.1 -0.1)\">\r\n     <defs>\r\n      <path d=\"M 19.1875 8.296875 \r\nL 53.609375 8.296875 \r\nL 53.609375 0 \r\nL 7.328125 0 \r\nL 7.328125 8.296875 \r\nQ 12.9375 14.109375 22.625 23.890625 \r\nQ 32.328125 33.6875 34.8125 36.53125 \r\nQ 39.546875 41.84375 41.421875 45.53125 \r\nQ 43.3125 49.21875 43.3125 52.78125 \r\nQ 43.3125 58.59375 39.234375 62.25 \r\nQ 35.15625 65.921875 28.609375 65.921875 \r\nQ 23.96875 65.921875 18.8125 64.3125 \r\nQ 13.671875 62.703125 7.8125 59.421875 \r\nL 7.8125 69.390625 \r\nQ 13.765625 71.78125 18.9375 73 \r\nQ 24.125 74.21875 28.421875 74.21875 \r\nQ 39.75 74.21875 46.484375 68.546875 \r\nQ 53.21875 62.890625 53.21875 53.421875 \r\nQ 53.21875 48.921875 51.53125 44.890625 \r\nQ 49.859375 40.875 45.40625 35.40625 \r\nQ 44.1875 33.984375 37.640625 27.21875 \r\nQ 31.109375 20.453125 19.1875 8.296875 \r\nz\r\n\" id=\"DejaVuSans-50\"/>\r\n      <path d=\"M 10.796875 72.90625 \r\nL 49.515625 72.90625 \r\nL 49.515625 64.59375 \r\nL 19.828125 64.59375 \r\nL 19.828125 46.734375 \r\nQ 21.96875 47.46875 24.109375 47.828125 \r\nQ 26.265625 48.1875 28.421875 48.1875 \r\nQ 40.625 48.1875 47.75 41.5 \r\nQ 54.890625 34.8125 54.890625 23.390625 \r\nQ 54.890625 11.625 47.5625 5.09375 \r\nQ 40.234375 -1.421875 26.90625 -1.421875 \r\nQ 22.3125 -1.421875 17.546875 -0.640625 \r\nQ 12.796875 0.140625 7.71875 1.703125 \r\nL 7.71875 11.625 \r\nQ 12.109375 9.234375 16.796875 8.0625 \r\nQ 21.484375 6.890625 26.703125 6.890625 \r\nQ 35.15625 6.890625 40.078125 11.328125 \r\nQ 45.015625 15.765625 45.015625 23.390625 \r\nQ 45.015625 31 40.078125 35.4375 \r\nQ 35.15625 39.890625 26.703125 39.890625 \r\nQ 22.75 39.890625 18.8125 39.015625 \r\nQ 14.890625 38.140625 10.796875 36.28125 \r\nz\r\n\" id=\"DejaVuSans-53\"/>\r\n      <path d=\"M 10.6875 12.40625 \r\nL 21 12.40625 \r\nL 21 0 \r\nL 10.6875 0 \r\nz\r\n\" id=\"DejaVuSans-46\"/>\r\n      <path d=\"M 72.703125 32.078125 \r\nQ 68.453125 32.078125 66.03125 28.46875 \r\nQ 63.625 24.859375 63.625 18.40625 \r\nQ 63.625 12.0625 66.03125 8.421875 \r\nQ 68.453125 4.78125 72.703125 4.78125 \r\nQ 76.859375 4.78125 79.265625 8.421875 \r\nQ 81.6875 12.0625 81.6875 18.40625 \r\nQ 81.6875 24.8125 79.265625 28.4375 \r\nQ 76.859375 32.078125 72.703125 32.078125 \r\nz\r\nM 72.703125 38.28125 \r\nQ 80.421875 38.28125 84.953125 32.90625 \r\nQ 89.5 27.546875 89.5 18.40625 \r\nQ 89.5 9.28125 84.9375 3.921875 \r\nQ 80.375 -1.421875 72.703125 -1.421875 \r\nQ 64.890625 -1.421875 60.34375 3.921875 \r\nQ 55.8125 9.28125 55.8125 18.40625 \r\nQ 55.8125 27.59375 60.375 32.9375 \r\nQ 64.9375 38.28125 72.703125 38.28125 \r\nz\r\nM 22.3125 68.015625 \r\nQ 18.109375 68.015625 15.6875 64.375 \r\nQ 13.28125 60.75 13.28125 54.390625 \r\nQ 13.28125 47.953125 15.671875 44.328125 \r\nQ 18.0625 40.71875 22.3125 40.71875 \r\nQ 26.5625 40.71875 28.96875 44.328125 \r\nQ 31.390625 47.953125 31.390625 54.390625 \r\nQ 31.390625 60.6875 28.953125 64.34375 \r\nQ 26.515625 68.015625 22.3125 68.015625 \r\nz\r\nM 66.40625 74.21875 \r\nL 74.21875 74.21875 \r\nL 28.609375 -1.421875 \r\nL 20.796875 -1.421875 \r\nz\r\nM 22.3125 74.21875 \r\nQ 30.03125 74.21875 34.609375 68.875 \r\nQ 39.203125 63.53125 39.203125 54.390625 \r\nQ 39.203125 45.171875 34.640625 39.84375 \r\nQ 30.078125 34.515625 22.3125 34.515625 \r\nQ 14.546875 34.515625 10.03125 39.859375 \r\nQ 5.515625 45.21875 5.515625 54.390625 \r\nQ 5.515625 63.484375 10.046875 68.84375 \r\nQ 14.59375 74.21875 22.3125 74.21875 \r\nz\r\n\" id=\"DejaVuSans-37\"/>\r\n     </defs>\r\n     <use xlink:href=\"#DejaVuSans-50\"/>\r\n     <use x=\"63.623047\" xlink:href=\"#DejaVuSans-53\"/>\r\n     <use x=\"127.246094\" xlink:href=\"#DejaVuSans-46\"/>\r\n     <use x=\"159.033203\" xlink:href=\"#DejaVuSans-50\"/>\r\n     <use x=\"222.65625\" xlink:href=\"#DejaVuSans-37\"/>\r\n    </g>\r\n   </g>\r\n   <g id=\"text_3\">\r\n    <!-- Not Default -->\r\n    <g transform=\"translate(42.609436 194.288715)scale(0.1 -0.1)\">\r\n     <defs>\r\n      <path d=\"M 9.8125 72.90625 \r\nL 23.09375 72.90625 \r\nL 55.421875 11.921875 \r\nL 55.421875 72.90625 \r\nL 64.984375 72.90625 \r\nL 64.984375 0 \r\nL 51.703125 0 \r\nL 19.390625 60.984375 \r\nL 19.390625 0 \r\nL 9.8125 0 \r\nz\r\n\" id=\"DejaVuSans-78\"/>\r\n      <path d=\"M 30.609375 48.390625 \r\nQ 23.390625 48.390625 19.1875 42.75 \r\nQ 14.984375 37.109375 14.984375 27.296875 \r\nQ 14.984375 17.484375 19.15625 11.84375 \r\nQ 23.34375 6.203125 30.609375 6.203125 \r\nQ 37.796875 6.203125 41.984375 11.859375 \r\nQ 46.1875 17.53125 46.1875 27.296875 \r\nQ 46.1875 37.015625 41.984375 42.703125 \r\nQ 37.796875 48.390625 30.609375 48.390625 \r\nz\r\nM 30.609375 56 \r\nQ 42.328125 56 49.015625 48.375 \r\nQ 55.71875 40.765625 55.71875 27.296875 \r\nQ 55.71875 13.875 49.015625 6.21875 \r\nQ 42.328125 -1.421875 30.609375 -1.421875 \r\nQ 18.84375 -1.421875 12.171875 6.21875 \r\nQ 5.515625 13.875 5.515625 27.296875 \r\nQ 5.515625 40.765625 12.171875 48.375 \r\nQ 18.84375 56 30.609375 56 \r\nz\r\n\" id=\"DejaVuSans-111\"/>\r\n     </defs>\r\n     <use xlink:href=\"#DejaVuSans-78\"/>\r\n     <use x=\"74.804688\" xlink:href=\"#DejaVuSans-111\"/>\r\n     <use x=\"135.986328\" xlink:href=\"#DejaVuSans-116\"/>\r\n     <use x=\"175.195312\" xlink:href=\"#DejaVuSans-32\"/>\r\n     <use x=\"206.982422\" xlink:href=\"#DejaVuSans-68\"/>\r\n     <use x=\"283.984375\" xlink:href=\"#DejaVuSans-101\"/>\r\n     <use x=\"345.507812\" xlink:href=\"#DejaVuSans-102\"/>\r\n     <use x=\"380.712891\" xlink:href=\"#DejaVuSans-97\"/>\r\n     <use x=\"441.992188\" xlink:href=\"#DejaVuSans-117\"/>\r\n     <use x=\"505.371094\" xlink:href=\"#DejaVuSans-108\"/>\r\n     <use x=\"533.154297\" xlink:href=\"#DejaVuSans-116\"/>\r\n    </g>\r\n   </g>\r\n   <g id=\"text_4\">\r\n    <!-- 74.8% -->\r\n    <g transform=\"translate(118.369107 159.521584)scale(0.1 -0.1)\">\r\n     <defs>\r\n      <path d=\"M 8.203125 72.90625 \r\nL 55.078125 72.90625 \r\nL 55.078125 68.703125 \r\nL 28.609375 0 \r\nL 18.3125 0 \r\nL 43.21875 64.59375 \r\nL 8.203125 64.59375 \r\nz\r\n\" id=\"DejaVuSans-55\"/>\r\n      <path d=\"M 37.796875 64.3125 \r\nL 12.890625 25.390625 \r\nL 37.796875 25.390625 \r\nz\r\nM 35.203125 72.90625 \r\nL 47.609375 72.90625 \r\nL 47.609375 25.390625 \r\nL 58.015625 25.390625 \r\nL 58.015625 17.1875 \r\nL 47.609375 17.1875 \r\nL 47.609375 0 \r\nL 37.796875 0 \r\nL 37.796875 17.1875 \r\nL 4.890625 17.1875 \r\nL 4.890625 26.703125 \r\nz\r\n\" id=\"DejaVuSans-52\"/>\r\n      <path d=\"M 31.78125 34.625 \r\nQ 24.75 34.625 20.71875 30.859375 \r\nQ 16.703125 27.09375 16.703125 20.515625 \r\nQ 16.703125 13.921875 20.71875 10.15625 \r\nQ 24.75 6.390625 31.78125 6.390625 \r\nQ 38.8125 6.390625 42.859375 10.171875 \r\nQ 46.921875 13.96875 46.921875 20.515625 \r\nQ 46.921875 27.09375 42.890625 30.859375 \r\nQ 38.875 34.625 31.78125 34.625 \r\nz\r\nM 21.921875 38.8125 \r\nQ 15.578125 40.375 12.03125 44.71875 \r\nQ 8.5 49.078125 8.5 55.328125 \r\nQ 8.5 64.0625 14.71875 69.140625 \r\nQ 20.953125 74.21875 31.78125 74.21875 \r\nQ 42.671875 74.21875 48.875 69.140625 \r\nQ 55.078125 64.0625 55.078125 55.328125 \r\nQ 55.078125 49.078125 51.53125 44.71875 \r\nQ 48 40.375 41.703125 38.8125 \r\nQ 48.828125 37.15625 52.796875 32.3125 \r\nQ 56.78125 27.484375 56.78125 20.515625 \r\nQ 56.78125 9.90625 50.3125 4.234375 \r\nQ 43.84375 -1.421875 31.78125 -1.421875 \r\nQ 19.734375 -1.421875 13.25 4.234375 \r\nQ 6.78125 9.90625 6.78125 20.515625 \r\nQ 6.78125 27.484375 10.78125 32.3125 \r\nQ 14.796875 37.15625 21.921875 38.8125 \r\nz\r\nM 18.3125 54.390625 \r\nQ 18.3125 48.734375 21.84375 45.5625 \r\nQ 25.390625 42.390625 31.78125 42.390625 \r\nQ 38.140625 42.390625 41.71875 45.5625 \r\nQ 45.3125 48.734375 45.3125 54.390625 \r\nQ 45.3125 60.0625 41.71875 63.234375 \r\nQ 38.140625 66.40625 31.78125 66.40625 \r\nQ 25.390625 66.40625 21.84375 63.234375 \r\nQ 18.3125 60.0625 18.3125 54.390625 \r\nz\r\n\" id=\"DejaVuSans-56\"/>\r\n     </defs>\r\n     <use xlink:href=\"#DejaVuSans-55\"/>\r\n     <use x=\"63.623047\" xlink:href=\"#DejaVuSans-52\"/>\r\n     <use x=\"127.246094\" xlink:href=\"#DejaVuSans-46\"/>\r\n     <use x=\"159.033203\" xlink:href=\"#DejaVuSans-56\"/>\r\n     <use x=\"222.65625\" xlink:href=\"#DejaVuSans-37\"/>\r\n    </g>\r\n   </g>\r\n  </g>\r\n </g>\r\n</svg>\r\n",
      "image/png": "[encoded data removed]"
     },
     "metadata": {}
    }
   ],
   "source": [
    "\"BEFORE DATASET SPLIT\"\n",
    "\n",
    "labels = [\"Is Default\", \"Not Default\"]\n",
    "y_train_total_size = y_train.size\n",
    "isDefault_count = 0\n",
    "for item in y_train:\n",
    "    if item == 1:\n",
    "        isDefault_count += 1\n",
    "print(isDefault_count, y_train_total_size)\n",
    "sizes = [isDefault_count, y_train_total_size-isDefault_count]\n",
    "fig1, ax1 = plt.subplots()\n",
    "ax1.pie(sizes, labels=labels, autopct='%1.1f%%', shadow=True)\n",
    "ax1.axis('equal')\n",
    "plt.show()"
   ]
  },
  {
   "cell_type": "code",
   "execution_count": 7,
   "metadata": {
    "tags": []
   },
   "outputs": [
    {
     "output_type": "stream",
     "name": "stdout",
     "text": [
      "(31, 151) (151,)\n(31, 75)\n(31, 76)\n(75,)\n(76,)\n"
     ]
    }
   ],
   "source": [
    "'''\n",
    "Stratify train/test split with Sklearn\n",
    "'''\n",
    "\n",
    "print(x_train.shape, y_train.shape)\n",
    "x_train, x_test, y_train, y_test = train_test_split(x_train.T, y_train, stratify=y_train, test_size=0.5)\n",
    "\n",
    "x_train = x_train.T\n",
    "x_test = x_test.T\n",
    "\n",
    "print(x_train.shape)\n",
    "print(x_test.shape)\n",
    "print(y_train.shape)\n",
    "print(y_test.shape)"
   ]
  },
  {
   "cell_type": "code",
   "execution_count": 8,
   "metadata": {},
   "outputs": [],
   "source": [
    "'''\n",
    "Str type column ID: 5,6,7,8,12,29\n",
    "    Note: Column ID after 13 needs to minus one because 'isDefault' (@ index 13) is already taken out from x_train\n",
    "'''\n",
    "x_train_str_type_only = np.asarray((x_train.tolist()[5: 9] + x_train.tolist()[12:13] + x_train.tolist()[28:29]), dtype='str')\n",
    "x_test_str_type_only = np.asarray((x_test.tolist()[5: 9] + x_test.tolist()[12:13] + x_test.tolist()[28:29]), dtype='str')\n",
    "\n",
    "'''\n",
    "Int/Float type columns\n",
    "'''\n",
    "x_train_num_type_only = np.asarray((x_train.tolist()[0:5] + x_train.tolist()[9:12] + x_train.tolist()[13:27] + x_train.tolist()[29:32]), dtype='O')\n",
    "x_test_num_type_only = np.asarray((x_test.tolist()[0:5] + x_test.tolist()[9:12] + x_test.tolist()[13:27] + x_test.tolist()[29:32]), dtype='O')\n",
    "\n",
    "'''\n",
    "Those features that are meaningful for a Gaussian Naive Bayes algorithm\n",
    "'''\n",
    "x_train_gaussian = np.vstack((np.asarray(x_train.tolist()[1:5], dtype='O'), np.asarray(x_train.tolist()[9:11], dtype='O'), np.asarray(x_train.tolist()[19:21], dtype='O')))\n",
    "x_test_gaussian = np.vstack((np.asarray(x_test.tolist()[1:5], dtype='O'), np.asarray(x_test.tolist()[9:11], dtype='O'), np.asarray(x_test.tolist()[19:21], dtype='O')))\n",
    "\n",
    "'''\n",
    "Split data by class\n",
    "'''\n",
    "zero_idx = list()\n",
    "for i in range(len(y_train)):\n",
    "    if y_train[i] == 0:\n",
    "        zero_idx.append(i)\n",
    "\n",
    "t = x_train_gaussian.T.tolist()\n",
    "x_train_gaussian0 = list()\n",
    "x_train_gaussian1 = list()\n",
    "idx = 0\n",
    "for i in range(len(t)):\n",
    "    if idx < len(zero_idx) and i == zero_idx[idx]:\n",
    "        x_train_gaussian0.append(t[i])\n",
    "        idx += 1\n",
    "    else:\n",
    "        x_train_gaussian1.append(t[i])\n",
    "x_train_gaussian0 = np.asarray(x_train_gaussian0, dtype='O')\n",
    "x_train_gaussian1 = np.asarray(x_train_gaussian1, dtype='O')\n",
    "\n",
    "t = x_test_gaussian.T.tolist()\n",
    "x_test_gaussian0 = list()\n",
    "x_test_gaussian1 = list()\n",
    "idx = 0\n",
    "for i in range(len(t)):\n",
    "    if idx < len(zero_idx) and i == zero_idx[idx]:\n",
    "        x_test_gaussian0.append(t[i])\n",
    "        idx += 1\n",
    "    else:\n",
    "        x_test_gaussian1.append(t[i])\n",
    "x_test_gaussian0 = np.asarray(x_test_gaussian0, dtype='O')\n",
    "x_test_gaussian1 = np.asarray(x_test_gaussian1, dtype='O')"
   ]
  },
  {
   "cell_type": "code",
   "execution_count": 9,
   "metadata": {},
   "outputs": [
    {
     "output_type": "stream",
     "name": "stdout",
     "text": [
      "19 76\n"
     ]
    },
    {
     "output_type": "display_data",
     "data": {
      "text/plain": "<Figure size 432x288 with 1 Axes>",
      "image/svg+xml": "<?xml version=\"1.0\" encoding=\"utf-8\" standalone=\"no\"?>\r\n<!DOCTYPE svg PUBLIC \"-//W3C//DTD SVG 1.1//EN\"\r\n  \"http://www.w3.org/Graphics/SVG/1.1/DTD/svg11.dtd\">\r\n<!-- Created with matplotlib (https://matplotlib.org/) -->\r\n<svg height=\"231.84pt\" version=\"1.1\" viewBox=\"0 0 349.2 231.84\" width=\"349.2pt\" xmlns=\"http://www.w3.org/2000/svg\" xmlns:xlink=\"http://www.w3.org/1999/xlink\">\r\n <metadata>\r\n  <rdf:RDF xmlns:cc=\"http://creativecommons.org/ns#\" xmlns:dc=\"http://purl.org/dc/elements/1.1/\" xmlns:rdf=\"http://www.w3.org/1999/02/22-rdf-syntax-ns#\">\r\n   <cc:Work>\r\n    <dc:type rdf:resource=\"http://purl.org/dc/dcmitype/StillImage\"/>\r\n    <dc:date>2020-12-25T21:15:05.893839</dc:date>\r\n    <dc:format>image/svg+xml</dc:format>\r\n    <dc:creator>\r\n     <cc:Agent>\r\n      <dc:title>Matplotlib v3.3.3, https://matplotlib.org/</dc:title>\r\n     </cc:Agent>\r\n    </dc:creator>\r\n   </cc:Work>\r\n  </rdf:RDF>\r\n </metadata>\r\n <defs>\r\n  <style type=\"text/css\">*{stroke-linecap:butt;stroke-linejoin:round;}</style>\r\n </defs>\r\n <g id=\"figure_1\">\r\n  <g id=\"patch_1\">\r\n   <path d=\"M 0 231.84 \r\nL 349.2 231.84 \r\nL 349.2 0 \r\nL 0 0 \r\nz\r\n\" style=\"fill:none;\"/>\r\n  </g>\r\n  <g id=\"axes_1\">\r\n   <g id=\"patch_2\">\r\n    <path d=\"M 271.478593 116.929922 \r\nC 271.478593 90.97823 261.158328 66.062906 242.807711 47.712289 \r\nC 224.457094 29.361672 199.54177 19.041407 173.590078 19.041407 \r\nL 173.590078 116.929922 \r\nL 271.478593 116.929922 \r\nz\r\n\" style=\"fill:#092436;opacity:0.5;stroke:#092436;stroke-linejoin:miter;\"/>\r\n   </g>\r\n   <g id=\"patch_3\">\r\n    <path d=\"M 173.590078 19.041407 \r\nC 154.231876 19.041407 135.30189 24.783755 119.206133 35.538596 \r\nC 103.110377 46.293437 90.560946 61.584962 83.152883 79.469609 \r\nC 75.74482 97.354255 73.805866 117.040784 77.582464 136.027023 \r\nC 81.359062 155.013263 90.68413 172.459238 104.372446 186.147554 \r\nC 118.060762 199.83587 135.506737 209.160938 154.492977 212.937536 \r\nC 173.479216 216.714134 193.165745 214.77518 211.050391 207.367117 \r\nC 228.935038 199.959054 244.226563 187.409623 254.981404 171.313867 \r\nC 265.736245 155.21811 271.478593 136.288124 271.478593 116.929922 \r\nL 173.590078 116.929922 \r\nL 173.590078 19.041407 \r\nz\r\n\" style=\"fill:#4c2604;opacity:0.5;stroke:#4c2604;stroke-linejoin:miter;\"/>\r\n   </g>\r\n   <g id=\"patch_4\">\r\n    <path d=\"M 273.436364 114.972151 \r\nC 273.436364 89.02046 263.116098 64.105136 244.765481 45.754519 \r\nC 226.414864 27.403902 201.49954 17.083636 175.547849 17.083636 \r\nL 175.547849 114.972151 \r\nL 273.436364 114.972151 \r\nz\r\n\" style=\"fill:#1f77b4;\"/>\r\n   </g>\r\n   <g id=\"patch_5\">\r\n    <path d=\"M 175.547849 17.083636 \r\nC 156.189647 17.083636 137.25966 22.825985 121.163904 33.580826 \r\nC 105.068147 44.335667 92.518717 59.627192 85.110653 77.511838 \r\nC 77.70259 95.396485 75.763636 115.083014 79.540234 134.069253 \r\nC 83.316832 153.055493 92.6419 170.501468 106.330216 184.189784 \r\nC 120.018532 197.8781 137.464507 207.203168 156.450747 210.979766 \r\nC 175.436986 214.756364 195.123515 212.81741 213.008162 205.409347 \r\nC 230.892808 198.001283 246.184333 185.451853 256.939174 169.356096 \r\nC 267.694015 153.26034 273.436364 134.330353 273.436364 114.972151 \r\nL 175.547849 114.972151 \r\nL 175.547849 17.083636 \r\nz\r\n\" style=\"fill:#ff7f0e;\"/>\r\n   </g>\r\n   <g id=\"matplotlib.axis_1\"/>\r\n   <g id=\"matplotlib.axis_2\"/>\r\n   <g id=\"text_1\">\r\n    <!-- Is Default -->\r\n    <g transform=\"translate(251.687245 41.59213)scale(0.1 -0.1)\">\r\n     <defs>\r\n      <path d=\"M 9.8125 72.90625 \r\nL 19.671875 72.90625 \r\nL 19.671875 0 \r\nL 9.8125 0 \r\nz\r\n\" id=\"DejaVuSans-73\"/>\r\n      <path d=\"M 44.28125 53.078125 \r\nL 44.28125 44.578125 \r\nQ 40.484375 46.53125 36.375 47.5 \r\nQ 32.28125 48.484375 27.875 48.484375 \r\nQ 21.1875 48.484375 17.84375 46.4375 \r\nQ 14.5 44.390625 14.5 40.28125 \r\nQ 14.5 37.15625 16.890625 35.375 \r\nQ 19.28125 33.59375 26.515625 31.984375 \r\nL 29.59375 31.296875 \r\nQ 39.15625 29.25 43.1875 25.515625 \r\nQ 47.21875 21.78125 47.21875 15.09375 \r\nQ 47.21875 7.46875 41.1875 3.015625 \r\nQ 35.15625 -1.421875 24.609375 -1.421875 \r\nQ 20.21875 -1.421875 15.453125 -0.5625 \r\nQ 10.6875 0.296875 5.421875 2 \r\nL 5.421875 11.28125 \r\nQ 10.40625 8.6875 15.234375 7.390625 \r\nQ 20.0625 6.109375 24.8125 6.109375 \r\nQ 31.15625 6.109375 34.5625 8.28125 \r\nQ 37.984375 10.453125 37.984375 14.40625 \r\nQ 37.984375 18.0625 35.515625 20.015625 \r\nQ 33.0625 21.96875 24.703125 23.78125 \r\nL 21.578125 24.515625 \r\nQ 13.234375 26.265625 9.515625 29.90625 \r\nQ 5.8125 33.546875 5.8125 39.890625 \r\nQ 5.8125 47.609375 11.28125 51.796875 \r\nQ 16.75 56 26.8125 56 \r\nQ 31.78125 56 36.171875 55.265625 \r\nQ 40.578125 54.546875 44.28125 53.078125 \r\nz\r\n\" id=\"DejaVuSans-115\"/>\r\n      <path id=\"DejaVuSans-32\"/>\r\n      <path d=\"M 19.671875 64.796875 \r\nL 19.671875 8.109375 \r\nL 31.59375 8.109375 \r\nQ 46.6875 8.109375 53.6875 14.9375 \r\nQ 60.6875 21.78125 60.6875 36.53125 \r\nQ 60.6875 51.171875 53.6875 57.984375 \r\nQ 46.6875 64.796875 31.59375 64.796875 \r\nz\r\nM 9.8125 72.90625 \r\nL 30.078125 72.90625 \r\nQ 51.265625 72.90625 61.171875 64.09375 \r\nQ 71.09375 55.28125 71.09375 36.53125 \r\nQ 71.09375 17.671875 61.125 8.828125 \r\nQ 51.171875 0 30.078125 0 \r\nL 9.8125 0 \r\nz\r\n\" id=\"DejaVuSans-68\"/>\r\n      <path d=\"M 56.203125 29.59375 \r\nL 56.203125 25.203125 \r\nL 14.890625 25.203125 \r\nQ 15.484375 15.921875 20.484375 11.0625 \r\nQ 25.484375 6.203125 34.421875 6.203125 \r\nQ 39.59375 6.203125 44.453125 7.46875 \r\nQ 49.3125 8.734375 54.109375 11.28125 \r\nL 54.109375 2.78125 \r\nQ 49.265625 0.734375 44.1875 -0.34375 \r\nQ 39.109375 -1.421875 33.890625 -1.421875 \r\nQ 20.796875 -1.421875 13.15625 6.1875 \r\nQ 5.515625 13.8125 5.515625 26.8125 \r\nQ 5.515625 40.234375 12.765625 48.109375 \r\nQ 20.015625 56 32.328125 56 \r\nQ 43.359375 56 49.78125 48.890625 \r\nQ 56.203125 41.796875 56.203125 29.59375 \r\nz\r\nM 47.21875 32.234375 \r\nQ 47.125 39.59375 43.09375 43.984375 \r\nQ 39.0625 48.390625 32.421875 48.390625 \r\nQ 24.90625 48.390625 20.390625 44.140625 \r\nQ 15.875 39.890625 15.1875 32.171875 \r\nz\r\n\" id=\"DejaVuSans-101\"/>\r\n      <path d=\"M 37.109375 75.984375 \r\nL 37.109375 68.5 \r\nL 28.515625 68.5 \r\nQ 23.6875 68.5 21.796875 66.546875 \r\nQ 19.921875 64.59375 19.921875 59.515625 \r\nL 19.921875 54.6875 \r\nL 34.71875 54.6875 \r\nL 34.71875 47.703125 \r\nL 19.921875 47.703125 \r\nL 19.921875 0 \r\nL 10.890625 0 \r\nL 10.890625 47.703125 \r\nL 2.296875 47.703125 \r\nL 2.296875 54.6875 \r\nL 10.890625 54.6875 \r\nL 10.890625 58.5 \r\nQ 10.890625 67.625 15.140625 71.796875 \r\nQ 19.390625 75.984375 28.609375 75.984375 \r\nz\r\n\" id=\"DejaVuSans-102\"/>\r\n      <path d=\"M 34.28125 27.484375 \r\nQ 23.390625 27.484375 19.1875 25 \r\nQ 14.984375 22.515625 14.984375 16.5 \r\nQ 14.984375 11.71875 18.140625 8.90625 \r\nQ 21.296875 6.109375 26.703125 6.109375 \r\nQ 34.1875 6.109375 38.703125 11.40625 \r\nQ 43.21875 16.703125 43.21875 25.484375 \r\nL 43.21875 27.484375 \r\nz\r\nM 52.203125 31.203125 \r\nL 52.203125 0 \r\nL 43.21875 0 \r\nL 43.21875 8.296875 \r\nQ 40.140625 3.328125 35.546875 0.953125 \r\nQ 30.953125 -1.421875 24.3125 -1.421875 \r\nQ 15.921875 -1.421875 10.953125 3.296875 \r\nQ 6 8.015625 6 15.921875 \r\nQ 6 25.140625 12.171875 29.828125 \r\nQ 18.359375 34.515625 30.609375 34.515625 \r\nL 43.21875 34.515625 \r\nL 43.21875 35.40625 \r\nQ 43.21875 41.609375 39.140625 45 \r\nQ 35.0625 48.390625 27.6875 48.390625 \r\nQ 23 48.390625 18.546875 47.265625 \r\nQ 14.109375 46.140625 10.015625 43.890625 \r\nL 10.015625 52.203125 \r\nQ 14.9375 54.109375 19.578125 55.046875 \r\nQ 24.21875 56 28.609375 56 \r\nQ 40.484375 56 46.34375 49.84375 \r\nQ 52.203125 43.703125 52.203125 31.203125 \r\nz\r\n\" id=\"DejaVuSans-97\"/>\r\n      <path d=\"M 8.5 21.578125 \r\nL 8.5 54.6875 \r\nL 17.484375 54.6875 \r\nL 17.484375 21.921875 \r\nQ 17.484375 14.15625 20.5 10.265625 \r\nQ 23.53125 6.390625 29.59375 6.390625 \r\nQ 36.859375 6.390625 41.078125 11.03125 \r\nQ 45.3125 15.671875 45.3125 23.6875 \r\nL 45.3125 54.6875 \r\nL 54.296875 54.6875 \r\nL 54.296875 0 \r\nL 45.3125 0 \r\nL 45.3125 8.40625 \r\nQ 42.046875 3.421875 37.71875 1 \r\nQ 33.40625 -1.421875 27.6875 -1.421875 \r\nQ 18.265625 -1.421875 13.375 4.4375 \r\nQ 8.5 10.296875 8.5 21.578125 \r\nz\r\nM 31.109375 56 \r\nz\r\n\" id=\"DejaVuSans-117\"/>\r\n      <path d=\"M 9.421875 75.984375 \r\nL 18.40625 75.984375 \r\nL 18.40625 0 \r\nL 9.421875 0 \r\nz\r\n\" id=\"DejaVuSans-108\"/>\r\n      <path d=\"M 18.3125 70.21875 \r\nL 18.3125 54.6875 \r\nL 36.8125 54.6875 \r\nL 36.8125 47.703125 \r\nL 18.3125 47.703125 \r\nL 18.3125 18.015625 \r\nQ 18.3125 11.328125 20.140625 9.421875 \r\nQ 21.96875 7.515625 27.59375 7.515625 \r\nL 36.8125 7.515625 \r\nL 36.8125 0 \r\nL 27.59375 0 \r\nQ 17.1875 0 13.234375 3.875 \r\nQ 9.28125 7.765625 9.28125 18.015625 \r\nL 9.28125 47.703125 \r\nL 2.6875 47.703125 \r\nL 2.6875 54.6875 \r\nL 9.28125 54.6875 \r\nL 9.28125 70.21875 \r\nz\r\n\" id=\"DejaVuSans-116\"/>\r\n     </defs>\r\n     <use xlink:href=\"#DejaVuSans-73\"/>\r\n     <use x=\"29.492188\" xlink:href=\"#DejaVuSans-115\"/>\r\n     <use x=\"81.591797\" xlink:href=\"#DejaVuSans-32\"/>\r\n     <use x=\"113.378906\" xlink:href=\"#DejaVuSans-68\"/>\r\n     <use x=\"190.380859\" xlink:href=\"#DejaVuSans-101\"/>\r\n     <use x=\"251.904297\" xlink:href=\"#DejaVuSans-102\"/>\r\n     <use x=\"287.109375\" xlink:href=\"#DejaVuSans-97\"/>\r\n     <use x=\"348.388672\" xlink:href=\"#DejaVuSans-117\"/>\r\n     <use x=\"411.767578\" xlink:href=\"#DejaVuSans-108\"/>\r\n     <use x=\"439.550781\" xlink:href=\"#DejaVuSans-116\"/>\r\n    </g>\r\n   </g>\r\n   <g id=\"text_2\">\r\n    <!-- 25.0% -->\r\n    <g transform=\"translate(201.194835 76.200947)scale(0.1 -0.1)\">\r\n     <defs>\r\n      <path d=\"M 19.1875 8.296875 \r\nL 53.609375 8.296875 \r\nL 53.609375 0 \r\nL 7.328125 0 \r\nL 7.328125 8.296875 \r\nQ 12.9375 14.109375 22.625 23.890625 \r\nQ 32.328125 33.6875 34.8125 36.53125 \r\nQ 39.546875 41.84375 41.421875 45.53125 \r\nQ 43.3125 49.21875 43.3125 52.78125 \r\nQ 43.3125 58.59375 39.234375 62.25 \r\nQ 35.15625 65.921875 28.609375 65.921875 \r\nQ 23.96875 65.921875 18.8125 64.3125 \r\nQ 13.671875 62.703125 7.8125 59.421875 \r\nL 7.8125 69.390625 \r\nQ 13.765625 71.78125 18.9375 73 \r\nQ 24.125 74.21875 28.421875 74.21875 \r\nQ 39.75 74.21875 46.484375 68.546875 \r\nQ 53.21875 62.890625 53.21875 53.421875 \r\nQ 53.21875 48.921875 51.53125 44.890625 \r\nQ 49.859375 40.875 45.40625 35.40625 \r\nQ 44.1875 33.984375 37.640625 27.21875 \r\nQ 31.109375 20.453125 19.1875 8.296875 \r\nz\r\n\" id=\"DejaVuSans-50\"/>\r\n      <path d=\"M 10.796875 72.90625 \r\nL 49.515625 72.90625 \r\nL 49.515625 64.59375 \r\nL 19.828125 64.59375 \r\nL 19.828125 46.734375 \r\nQ 21.96875 47.46875 24.109375 47.828125 \r\nQ 26.265625 48.1875 28.421875 48.1875 \r\nQ 40.625 48.1875 47.75 41.5 \r\nQ 54.890625 34.8125 54.890625 23.390625 \r\nQ 54.890625 11.625 47.5625 5.09375 \r\nQ 40.234375 -1.421875 26.90625 -1.421875 \r\nQ 22.3125 -1.421875 17.546875 -0.640625 \r\nQ 12.796875 0.140625 7.71875 1.703125 \r\nL 7.71875 11.625 \r\nQ 12.109375 9.234375 16.796875 8.0625 \r\nQ 21.484375 6.890625 26.703125 6.890625 \r\nQ 35.15625 6.890625 40.078125 11.328125 \r\nQ 45.015625 15.765625 45.015625 23.390625 \r\nQ 45.015625 31 40.078125 35.4375 \r\nQ 35.15625 39.890625 26.703125 39.890625 \r\nQ 22.75 39.890625 18.8125 39.015625 \r\nQ 14.890625 38.140625 10.796875 36.28125 \r\nz\r\n\" id=\"DejaVuSans-53\"/>\r\n      <path d=\"M 10.6875 12.40625 \r\nL 21 12.40625 \r\nL 21 0 \r\nL 10.6875 0 \r\nz\r\n\" id=\"DejaVuSans-46\"/>\r\n      <path d=\"M 31.78125 66.40625 \r\nQ 24.171875 66.40625 20.328125 58.90625 \r\nQ 16.5 51.421875 16.5 36.375 \r\nQ 16.5 21.390625 20.328125 13.890625 \r\nQ 24.171875 6.390625 31.78125 6.390625 \r\nQ 39.453125 6.390625 43.28125 13.890625 \r\nQ 47.125 21.390625 47.125 36.375 \r\nQ 47.125 51.421875 43.28125 58.90625 \r\nQ 39.453125 66.40625 31.78125 66.40625 \r\nz\r\nM 31.78125 74.21875 \r\nQ 44.046875 74.21875 50.515625 64.515625 \r\nQ 56.984375 54.828125 56.984375 36.375 \r\nQ 56.984375 17.96875 50.515625 8.265625 \r\nQ 44.046875 -1.421875 31.78125 -1.421875 \r\nQ 19.53125 -1.421875 13.0625 8.265625 \r\nQ 6.59375 17.96875 6.59375 36.375 \r\nQ 6.59375 54.828125 13.0625 64.515625 \r\nQ 19.53125 74.21875 31.78125 74.21875 \r\nz\r\n\" id=\"DejaVuSans-48\"/>\r\n      <path d=\"M 72.703125 32.078125 \r\nQ 68.453125 32.078125 66.03125 28.46875 \r\nQ 63.625 24.859375 63.625 18.40625 \r\nQ 63.625 12.0625 66.03125 8.421875 \r\nQ 68.453125 4.78125 72.703125 4.78125 \r\nQ 76.859375 4.78125 79.265625 8.421875 \r\nQ 81.6875 12.0625 81.6875 18.40625 \r\nQ 81.6875 24.8125 79.265625 28.4375 \r\nQ 76.859375 32.078125 72.703125 32.078125 \r\nz\r\nM 72.703125 38.28125 \r\nQ 80.421875 38.28125 84.953125 32.90625 \r\nQ 89.5 27.546875 89.5 18.40625 \r\nQ 89.5 9.28125 84.9375 3.921875 \r\nQ 80.375 -1.421875 72.703125 -1.421875 \r\nQ 64.890625 -1.421875 60.34375 3.921875 \r\nQ 55.8125 9.28125 55.8125 18.40625 \r\nQ 55.8125 27.59375 60.375 32.9375 \r\nQ 64.9375 38.28125 72.703125 38.28125 \r\nz\r\nM 22.3125 68.015625 \r\nQ 18.109375 68.015625 15.6875 64.375 \r\nQ 13.28125 60.75 13.28125 54.390625 \r\nQ 13.28125 47.953125 15.671875 44.328125 \r\nQ 18.0625 40.71875 22.3125 40.71875 \r\nQ 26.5625 40.71875 28.96875 44.328125 \r\nQ 31.390625 47.953125 31.390625 54.390625 \r\nQ 31.390625 60.6875 28.953125 64.34375 \r\nQ 26.515625 68.015625 22.3125 68.015625 \r\nz\r\nM 66.40625 74.21875 \r\nL 74.21875 74.21875 \r\nL 28.609375 -1.421875 \r\nL 20.796875 -1.421875 \r\nz\r\nM 22.3125 74.21875 \r\nQ 30.03125 74.21875 34.609375 68.875 \r\nQ 39.203125 63.53125 39.203125 54.390625 \r\nQ 39.203125 45.171875 34.640625 39.84375 \r\nQ 30.078125 34.515625 22.3125 34.515625 \r\nQ 14.546875 34.515625 10.03125 39.859375 \r\nQ 5.515625 45.21875 5.515625 54.390625 \r\nQ 5.515625 63.484375 10.046875 68.84375 \r\nQ 14.59375 74.21875 22.3125 74.21875 \r\nz\r\n\" id=\"DejaVuSans-37\"/>\r\n     </defs>\r\n     <use xlink:href=\"#DejaVuSans-50\"/>\r\n     <use x=\"63.623047\" xlink:href=\"#DejaVuSans-53\"/>\r\n     <use x=\"127.246094\" xlink:href=\"#DejaVuSans-46\"/>\r\n     <use x=\"159.033203\" xlink:href=\"#DejaVuSans-48\"/>\r\n     <use x=\"222.65625\" xlink:href=\"#DejaVuSans-37\"/>\r\n    </g>\r\n   </g>\r\n   <g id=\"text_3\">\r\n    <!-- Not Default -->\r\n    <g transform=\"translate(42.172515 193.870922)scale(0.1 -0.1)\">\r\n     <defs>\r\n      <path d=\"M 9.8125 72.90625 \r\nL 23.09375 72.90625 \r\nL 55.421875 11.921875 \r\nL 55.421875 72.90625 \r\nL 64.984375 72.90625 \r\nL 64.984375 0 \r\nL 51.703125 0 \r\nL 19.390625 60.984375 \r\nL 19.390625 0 \r\nL 9.8125 0 \r\nz\r\n\" id=\"DejaVuSans-78\"/>\r\n      <path d=\"M 30.609375 48.390625 \r\nQ 23.390625 48.390625 19.1875 42.75 \r\nQ 14.984375 37.109375 14.984375 27.296875 \r\nQ 14.984375 17.484375 19.15625 11.84375 \r\nQ 23.34375 6.203125 30.609375 6.203125 \r\nQ 37.796875 6.203125 41.984375 11.859375 \r\nQ 46.1875 17.53125 46.1875 27.296875 \r\nQ 46.1875 37.015625 41.984375 42.703125 \r\nQ 37.796875 48.390625 30.609375 48.390625 \r\nz\r\nM 30.609375 56 \r\nQ 42.328125 56 49.015625 48.375 \r\nQ 55.71875 40.765625 55.71875 27.296875 \r\nQ 55.71875 13.875 49.015625 6.21875 \r\nQ 42.328125 -1.421875 30.609375 -1.421875 \r\nQ 18.84375 -1.421875 12.171875 6.21875 \r\nQ 5.515625 13.875 5.515625 27.296875 \r\nQ 5.515625 40.765625 12.171875 48.375 \r\nQ 18.84375 56 30.609375 56 \r\nz\r\n\" id=\"DejaVuSans-111\"/>\r\n     </defs>\r\n     <use xlink:href=\"#DejaVuSans-78\"/>\r\n     <use x=\"74.804688\" xlink:href=\"#DejaVuSans-111\"/>\r\n     <use x=\"135.986328\" xlink:href=\"#DejaVuSans-116\"/>\r\n     <use x=\"175.195312\" xlink:href=\"#DejaVuSans-32\"/>\r\n     <use x=\"206.982422\" xlink:href=\"#DejaVuSans-68\"/>\r\n     <use x=\"283.984375\" xlink:href=\"#DejaVuSans-101\"/>\r\n     <use x=\"345.507812\" xlink:href=\"#DejaVuSans-102\"/>\r\n     <use x=\"380.712891\" xlink:href=\"#DejaVuSans-97\"/>\r\n     <use x=\"441.992188\" xlink:href=\"#DejaVuSans-117\"/>\r\n     <use x=\"505.371094\" xlink:href=\"#DejaVuSans-108\"/>\r\n     <use x=\"533.154297\" xlink:href=\"#DejaVuSans-116\"/>\r\n    </g>\r\n   </g>\r\n   <g id=\"text_4\">\r\n    <!-- 75.0% -->\r\n    <g transform=\"translate(118.133675 159.262106)scale(0.1 -0.1)\">\r\n     <defs>\r\n      <path d=\"M 8.203125 72.90625 \r\nL 55.078125 72.90625 \r\nL 55.078125 68.703125 \r\nL 28.609375 0 \r\nL 18.3125 0 \r\nL 43.21875 64.59375 \r\nL 8.203125 64.59375 \r\nz\r\n\" id=\"DejaVuSans-55\"/>\r\n     </defs>\r\n     <use xlink:href=\"#DejaVuSans-55\"/>\r\n     <use x=\"63.623047\" xlink:href=\"#DejaVuSans-53\"/>\r\n     <use x=\"127.246094\" xlink:href=\"#DejaVuSans-46\"/>\r\n     <use x=\"159.033203\" xlink:href=\"#DejaVuSans-48\"/>\r\n     <use x=\"222.65625\" xlink:href=\"#DejaVuSans-37\"/>\r\n    </g>\r\n   </g>\r\n  </g>\r\n </g>\r\n</svg>\r\n",
      "image/png": "[encoded data removed]"
     },
     "metadata": {}
    }
   ],
   "source": [
    "\"AFTER DATASET SPLIT\"\n",
    "\n",
    "labels = [\"Is Default\", \"Not Default\"]\n",
    "total_size = y_test.size\n",
    "isDefault_count = 0\n",
    "for item in y_test:\n",
    "    if item == 1:\n",
    "        isDefault_count += 1\n",
    "print(isDefault_count, total_size)\n",
    "sizes = [isDefault_count, total_size-isDefault_count]\n",
    "fig1, ax1 = plt.subplots()\n",
    "ax1.pie(sizes, labels=labels, autopct='%1.1f%%', shadow=True)\n",
    "ax1.axis('equal')\n",
    "plt.show()"
   ]
  },
  {
   "cell_type": "code",
   "execution_count": 10,
   "metadata": {},
   "outputs": [],
   "source": [
    "\"STAT UTILITY FUNCTIONS\"\n",
    "\n",
    "def mean(numbers):\n",
    "    return sum(numbers) / float(len(numbers))\n",
    "\n",
    "def stdev(numbers):\n",
    "\tavg = mean(numbers)\n",
    "\tvariance = sum([(x-avg)**2 for x in numbers]) / float(len(numbers)-1)\n",
    "\treturn sqrt(variance)\n",
    "\n",
    "def gaussian_dist_likelihood(data, mean, stdev):\n",
    "    exponent = exp(-((data - mean)**2 / (2 * stdev**2 )))\n",
    "    likelihood = (1 / (sqrt(2 * pi) * stdev)) * exponent\n",
    "    return likelihood\n",
    "\n",
    "'''\n",
    "CALCULATION UTILITY FUNCTIONS\n",
    "    P(C|x) = P(x|C)*P(C) / P(x)\n",
    "    We only care about maximizing the MAP: P(x|C)*P(C)\n",
    "'''\n",
    "\n",
    "def calculate_pC(arr, target_elem): # P(C)\n",
    "    num_elem_in_class = 0\n",
    "    for a in arr:\n",
    "        if target_elem == a:\n",
    "            num_elem_in_class += 1\n",
    "\n",
    "    \"Laplacian correction\"\n",
    "    return (num_elem_in_class+1)/len(arr)\n"
   ]
  },
  {
   "source": [
    "#### Feature encoding"
   ],
   "cell_type": "markdown",
   "metadata": {}
  },
  {
   "cell_type": "code",
   "execution_count": 11,
   "metadata": {},
   "outputs": [],
   "source": [
    "# y\n",
    "y_labels = [0,1] # two possible values of isDefault\n",
    "y_store = dict()\n",
    "for label in y_labels:\n",
    "    y_store[label] = calculate_pC(y_train, int(label))"
   ]
  },
  {
   "cell_type": "code",
   "execution_count": 12,
   "metadata": {},
   "outputs": [
    {
     "output_type": "stream",
     "name": "stdout",
     "text": [
      "Number of labels for each feature column:  [6, 24, 72, 12, 48, 29, 75, 3, 2, 75, 66, 67]\n"
     ]
    }
   ],
   "source": [
    "'''\n",
    "Categorical data analysis\n",
    "Long running time alert\n",
    "'''\n",
    "\n",
    "x_store_cat = dict()\n",
    "x_labels_cat = list() # for features with categorical data only\n",
    "for feature in x_train:\n",
    "    if type(feature[0]) == str:\n",
    "        label_per_feature = list()\n",
    "        for data in feature:\n",
    "            if data not in label_per_feature:\n",
    "                label_per_feature.append(data)\n",
    "        x_labels_cat.append(label_per_feature)\n",
    "num_labels = list()\n",
    "for feature in x_labels_cat:\n",
    "    num_labels.append(len(feature))\n",
    "\n",
    "\n",
    "\"Str type column header: [grade, subGrade, employmentTitle, employmentLength, issueDate, earliestCreditLine]\"\n",
    "print(\"Number of labels for each feature column: \", num_labels)\n",
    "\n",
    "\"Since there are way too many categories in some categorical columns, it's not meaningful to label them by their categories\"\n",
    "# grade\n",
    "feature1 = x_train_str_type_only[0]\n",
    "feature1_store = dict()\n",
    "for i in range(len(feature1)-1):\n",
    "    label = feature1[i]\n",
    "    feature1_store[label] = calculate_pC(feature1, str(label))\n",
    "x_store_cat = feature1_store\n",
    "x_labels_cat = x_labels_cat[0]\n"
   ]
  },
  {
   "source": [
    "#### Model Training & prediction\n",
    "###### *Note: Implemented with the log value of the probabilities to avoid underflow*"
   ],
   "cell_type": "markdown",
   "metadata": {}
  },
  {
   "cell_type": "code",
   "execution_count": 13,
   "metadata": {},
   "outputs": [],
   "source": [
    "def fit_gaussian(dataset):\n",
    "    prob_table_gaussian = list()\n",
    "    for feature in dataset.T:\n",
    "        likelihoods = list()\n",
    "        feature_mean = mean(feature)\n",
    "        feature_stdev = stdev(feature)\n",
    "        for data in feature:\n",
    "            likelihood = gaussian_dist_likelihood(data, feature_mean, feature_stdev) # P(x|C)\n",
    "            likelihoods.append(likelihood)\n",
    "        prob_table_gaussian.append(likelihoods)\n",
    "    return np.asarray(prob_table_gaussian)"
   ]
  },
  {
   "cell_type": "code",
   "execution_count": 14,
   "metadata": {},
   "outputs": [],
   "source": [
    "\n",
    "def calculate_class_probabilities(model, test):\n",
    "\ttotal_rows = sum([model[label][0][2] for label in model])\n",
    "\tprobabilities = dict()\n",
    "\tfor class_value, class_summaries in model.items():\n",
    "\t\tprobabilities[class_value] = model[class_value][0][2]/float(total_rows)\n",
    "\t\tfor i in range(len(class_summaries)):\n",
    "\t\t\tmean, stdev, _ = class_summaries[i]\n",
    "\t\t\tprobabilities[class_value] *= calculate_probability(test[i], mean, stdev)\n",
    "\treturn probabilities\n",
    "\n",
    "def predict(x_train_gaussian, x_test_gaussian):\n",
    "\tprobabilities = calculate_class_probabilities(x_train_gaussian, x_test_gaussian)\n",
    "\tbest_label, best_prob = None, -1\n",
    "\tfor class_value, probability in probabilities.items():\n",
    "\t\tif best_label is None or probability > best_prob:\n",
    "\t\t\tbest_prob = probability\n",
    "\t\t\tbest_label = class_value\n",
    "\treturn best_label"
   ]
  },
  {
   "cell_type": "code",
   "execution_count": 15,
   "metadata": {
    "tags": []
   },
   "outputs": [
    {
     "output_type": "stream",
     "name": "stdout",
     "text": [
      "The test accuracy is 0.7\nThe AUC score is 0.5\n"
     ]
    }
   ],
   "source": [
    "def predict(test0, test1):\n",
    "    result = list()\n",
    "    prob_table0 = fit_gaussian(test0).transpose()\n",
    "    prob_table1 = fit_gaussian(test1).transpose()\n",
    "    # print(prob_table0.shape)\n",
    "    # print(prob_table1.shape)\n",
    "    t0 = test0 # feature * data -> data * feature\n",
    "    t1 = test1\n",
    "    # print(\"t0=\",t0.shape,\"t1=\",t1.shape)\n",
    "    prob0 = 0.0\n",
    "    prob1 = 0.0\n",
    "    prob_table0 = prob_table0.transpose()\n",
    "    prob_table1 = prob_table1.transpose()\n",
    "    # For each data\n",
    "    for j in range(min(t0.shape[0],t1.shape[0])):\n",
    "        # For each feature\n",
    "        idx = min(t0.shape[1], t1.shape[1])\n",
    "        for i in range(idx):\n",
    "            \"Take the logarithm of the probabilities to avoid underflow\"\n",
    "            # print(prob_table0[j][i])\n",
    "            prob0 += log(prob_table0[i][j]) # P(x1|c)*P(x2|c)*...*P(xn|c)\n",
    "            # prob *= prob_table[j][i] # P(x1|c)*P(x2|c)*...*P(xn|c)\n",
    "        prob0 += log(x_store_cat[x_train_str_type_only[0][j]]) # categorical data\n",
    "        # prob *= (x_store_cat[x_train_str_type_only[0][j]]) # categorical data\n",
    "        prob0 += log(y_store[0])  # P(x|C) * P(C)\n",
    "\n",
    "        for i in range(idx):\n",
    "            prob1 += log(prob_table1[i][j])\n",
    "        prob1 += log(x_store_cat[x_train_str_type_only[0][j]])\n",
    "        prob1 += log(y_store[1])\n",
    "\n",
    "        if prob0 > prob1:\n",
    "            result.append(0)\n",
    "        else:\n",
    "            result.append(1)\n",
    "    return np.asarray(result)\n",
    "\n",
    "def scoring(y_test, result):\n",
    "    acc = 0\n",
    "    size = min(len(y_test),len(result))\n",
    "    for i in range(size):\n",
    "        if y_test[i] == result[i]:\n",
    "            acc += 1\n",
    "    # print(\"y_test=\",y_test)\n",
    "    # print(\"result=\",result)\n",
    "    # print(\"acc=\",acc)\n",
    "    return acc / size\n",
    "\n",
    "result = predict(x_test_gaussian0, x_test_gaussian1)\n",
    "# print(\"y_test=\",y_test[:20])\n",
    "# print(\"result=\",result)\n",
    "accuracy = scoring(y_test[:20], result)\n",
    "print(\"The test accuracy is\", accuracy)\n",
    "auc_score = roc_auc_score(np.asarray(y_test.tolist()[:len(result)]).astype(int), np.asarray(result).astype(int))\n",
    "print(\"The AUC score is\", auc_score)"
   ]
  },
  {
   "cell_type": "code",
   "execution_count": null,
   "metadata": {},
   "outputs": [],
   "source": []
  }
 ]
}